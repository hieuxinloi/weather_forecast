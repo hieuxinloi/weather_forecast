{
 "cells": [
  {
   "cell_type": "markdown",
   "metadata": {},
   "source": [
    "# Collecting Data"
   ]
  },
  {
   "cell_type": "code",
   "execution_count": 133,
   "metadata": {},
   "outputs": [],
   "source": [
    "from bs4 import BeautifulSoup\n",
    "import os\n",
    "import requests\n",
    "import urllib.robotparser\n",
    "import pandas as pd \n",
    "import datetime \n",
    "import time \n",
    "from selenium import webdriver\n",
    "from selenium.webdriver.common.by import By \n",
    "from selenium.webdriver.common.keys import Keys \n",
    "from selenium.webdriver.common.action_chains import ActionChains\n",
    "from selenium.common.exceptions import ElementClickInterceptedException, NoSuchElementException"
   ]
  },
  {
   "cell_type": "code",
   "execution_count": 134,
   "metadata": {},
   "outputs": [],
   "source": [
    "os.makedirs('data')"
   ]
  },
  {
   "cell_type": "code",
   "execution_count": 135,
   "metadata": {},
   "outputs": [],
   "source": [
    "def get_weather_data(start_date, end_date):\n",
    "    # Open web with selenium\n",
    "    browser = webdriver.Chrome()\n",
    "    browser.get('https://www.worldweatheronline.com/quy-nhon-weather-history/vn.aspx')\n",
    "\n",
    "    # Create csv file\n",
    "    file_name = f'data/weatherQN_{start_date.year}.csv'\n",
    "    with open(file_name, 'w', encoding='utf-8') as f:\n",
    "        f.write('Date\\tTime\\tWeather\\tTemp\\tRain\\tCloud\\tPressure\\tWind\\tGust\\tDir\\n')\n",
    "\n",
    "        # Go through each day\n",
    "        current_date = start_date\n",
    "        while current_date < end_date:\n",
    "            # Chuyển ngày sang định dạng phù hợp\n",
    "            date_str = current_date.strftime('%Y-%m-%d')\n",
    "\n",
    "            try:\n",
    "                # Change input date\n",
    "                input_date = browser.find_element(By.ID, 'ctl00_MainContentHolder_txtPastDate')\n",
    "                input_date.clear()\n",
    "                browser.execute_script(\"arguments[0].value = arguments[1];\", input_date, date_str)\n",
    "                \n",
    "                # Remove ads or overlay\n",
    "                try:\n",
    "                    overlay = browser.find_element(By.CLASS_NAME, 'ad-message')  # Thay 'ad-message' bằng class thực tế\n",
    "                    browser.execute_script(\"arguments[0].style.display = 'none';\", overlay)\n",
    "                except NoSuchElementException:\n",
    "                    pass \n",
    "\n",
    "                # Click submit\n",
    "                submit_button = browser.find_element(By.ID, 'ctl00_MainContentHolder_butShowPastWeather')\n",
    "                browser.execute_script(\"arguments[0].scrollIntoView(true);\", submit_button)\n",
    "                time.sleep(1) \n",
    "                try:\n",
    "                    submit_button.click()\n",
    "                except ElementClickInterceptedException:\n",
    "                    print(f\"Element click intercepted for date {date_str}, trying JavaScript click.\")\n",
    "                    browser.execute_script(\"arguments[0].click();\", submit_button)\n",
    "\n",
    "                time.sleep(2)\n",
    "\n",
    "                # Parse HTML with BeautifulSoup\n",
    "                soup = BeautifulSoup(browser.page_source, 'html.parser')\n",
    "\n",
    "                # Get data from table\n",
    "                table = soup.find('table', class_='days-details-table')\n",
    "                rows = table.find_all('tr')\n",
    "                rows = rows[1:]\n",
    "\n",
    "                for row in rows:\n",
    "                    columns = row.find_all('td')\n",
    "                    \n",
    "                    if len(columns) >= 9:\n",
    "                        time_data = columns[0].get_text(strip=True)\n",
    "\n",
    "                        weather_img = columns[1].find('img')\n",
    "                        weather = weather_img['alt'] if weather_img else \"N/A\" \n",
    "\n",
    "                        temp = columns[2].get_text(strip=True) \n",
    "                        \n",
    "                        rain_div = columns[3].find('div', class_='days-rain-number')\n",
    "                        rain = rain_div.get_text(strip=True) if rain_div else \"N/A\"\n",
    "\n",
    "                        cloud = columns[4].get_text(strip=True)  \n",
    "                        pressure = columns[5].get_text(strip=True)  \n",
    "                        wind_speed = columns[6].get_text(strip=True)  \n",
    "                        wind_gust = columns[7].get_text(strip=True)  \n",
    "                        wind_dir = columns[8].find('svg')['style'] if columns[8].find('svg') else \"N/A\" \n",
    "\n",
    "                        # Save file\n",
    "                        f.write(f\"{date_str}\\t{time_data}\\t{weather}\\t{temp}\\t{rain}\\t{cloud}\\t{pressure}\\t{wind_speed}\\t{wind_gust}\\t{wind_dir}\\n\")\n",
    "\n",
    "            except NoSuchElementException as e:\n",
    "                print(f\"Error: Cannot find element - {e}\")\n",
    "            except Exception as e:\n",
    "                print(f\"Unknown error: {e}\")\n",
    "\n",
    "            # Go to next page\n",
    "            current_date += datetime.timedelta(days=1)\n",
    "\n",
    "    browser.quit()"
   ]
  },
  {
   "cell_type": "code",
   "execution_count": null,
   "metadata": {},
   "outputs": [],
   "source": [
    "start_2009 = datetime.datetime(2009, 1, 1)\n",
    "end_2009 = datetime.datetime(2009, 12, 31)\n",
    "get_weather_data(start_2009, end_2009)"
   ]
  },
  {
   "cell_type": "code",
   "execution_count": null,
   "metadata": {},
   "outputs": [],
   "source": [
    "start_2010 = datetime.datetime(2010, 1, 1)\n",
    "end_2010 = datetime.datetime(2010, 12, 31)\n",
    "get_weather_data(start_2010, end_2010)"
   ]
  },
  {
   "cell_type": "code",
   "execution_count": null,
   "metadata": {},
   "outputs": [],
   "source": [
    "start_2011 = datetime.datetime(2011, 1, 1)\n",
    "end_2011 = datetime.datetime(2011, 12, 31)\n",
    "get_weather_data(start_2011, end_2011)"
   ]
  },
  {
   "cell_type": "code",
   "execution_count": null,
   "metadata": {},
   "outputs": [],
   "source": [
    "start_2012 = datetime.datetime(2012, 1, 1)\n",
    "end_2012 = datetime.datetime(2012, 12, 31)\n",
    "get_weather_data(start_2012, end_2012)"
   ]
  },
  {
   "cell_type": "code",
   "execution_count": null,
   "metadata": {},
   "outputs": [],
   "source": [
    "start_2013 = datetime.datetime(2013, 1, 1)\n",
    "end_2013 = datetime.datetime(2013, 1, 31)\n",
    "get_weather_data(start_2013, end_2013)"
   ]
  },
  {
   "cell_type": "code",
   "execution_count": null,
   "metadata": {},
   "outputs": [],
   "source": [
    "start_2014 = datetime.datetime(2014, 1, 1)\n",
    "end_2014 = datetime.datetime(2014, 12, 31)\n",
    "get_weather_data(start_2014, end_2014)"
   ]
  },
  {
   "cell_type": "code",
   "execution_count": null,
   "metadata": {},
   "outputs": [],
   "source": [
    "start_2015 = datetime.datetime(2015, 1, 1)\n",
    "end_2015 = datetime.datetime(2015, 12, 31)\n",
    "get_weather_data(start_2015, end_2015)"
   ]
  },
  {
   "cell_type": "code",
   "execution_count": null,
   "metadata": {},
   "outputs": [],
   "source": [
    "start_2016 = datetime.datetime(2016, 1, 1)\n",
    "end_2016 = datetime.datetime(2016, 12, 31)\n",
    "get_weather_data(start_2016, end_2016)"
   ]
  },
  {
   "cell_type": "code",
   "execution_count": null,
   "metadata": {},
   "outputs": [],
   "source": [
    "start_2017 = datetime.datetime(2017, 1, 1)\n",
    "end_2017 = datetime.datetime(2017, 12, 31)\n",
    "get_weather_data(start_2017, end_2017)"
   ]
  },
  {
   "cell_type": "code",
   "execution_count": null,
   "metadata": {},
   "outputs": [],
   "source": [
    "start_2018 = datetime.datetime(2018, 1, 1)\n",
    "end_2018 = datetime.datetime(2018, 12, 31)\n",
    "get_weather_data(start_2018, end_2018)"
   ]
  },
  {
   "cell_type": "code",
   "execution_count": null,
   "metadata": {},
   "outputs": [],
   "source": [
    "start_2019 = datetime.datetime(2019, 1, 1)\n",
    "end_2019 = datetime.datetime(2019, 12, 31)\n",
    "get_weather_data(start_2019, end_2019)"
   ]
  },
  {
   "cell_type": "code",
   "execution_count": null,
   "metadata": {},
   "outputs": [],
   "source": [
    "start_2020 = datetime.datetime(2020, 1, 1)\n",
    "end_2020 = datetime.datetime(2020, 12, 31)\n",
    "get_weather_data(start_2020, end_2020)"
   ]
  },
  {
   "cell_type": "code",
   "execution_count": null,
   "metadata": {},
   "outputs": [],
   "source": [
    "start_2021 = datetime.datetime(2021, 1, 1)\n",
    "end_2021 = datetime.datetime(2021, 12, 31)\n",
    "get_weather_data(start_2009, end_2009)"
   ]
  },
  {
   "cell_type": "code",
   "execution_count": null,
   "metadata": {},
   "outputs": [],
   "source": [
    "start_2022 = datetime.datetime(2022, 1, 1)\n",
    "end_2022 = datetime.datetime(2022, 12, 31)\n",
    "get_weather_data(start_2022, end_2022)"
   ]
  },
  {
   "cell_type": "code",
   "execution_count": null,
   "metadata": {},
   "outputs": [],
   "source": [
    "start_2023 = datetime.datetime(2023, 1, 1)\n",
    "end_2023 = datetime.datetime(2023, 12, 31)\n",
    "get_weather_data(start_2023, end_2023)"
   ]
  },
  {
   "cell_type": "code",
   "execution_count": null,
   "metadata": {},
   "outputs": [],
   "source": [
    "start_2024 = datetime.datetime(2024, 1, 1)\n",
    "end_2024 = datetime.datetime(2024, 12, 31)\n",
    "get_weather_data(start_2024, end_2024)"
   ]
  }
 ],
 "metadata": {
  "kernelspec": {
   "display_name": "weather_forecast",
   "language": "python",
   "name": "python3"
  },
  "language_info": {
   "codemirror_mode": {
    "name": "ipython",
    "version": 3
   },
   "file_extension": ".py",
   "mimetype": "text/x-python",
   "name": "python",
   "nbconvert_exporter": "python",
   "pygments_lexer": "ipython3",
   "version": "3.10.8"
  }
 },
 "nbformat": 4,
 "nbformat_minor": 2
}
