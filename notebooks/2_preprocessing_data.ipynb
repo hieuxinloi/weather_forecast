{
 "cells": [
  {
   "cell_type": "markdown",
   "metadata": {},
   "source": [
    "# Clean data"
   ]
  },
  {
   "cell_type": "code",
   "execution_count": 1,
   "metadata": {},
   "outputs": [],
   "source": [
    "import pandas as pd"
   ]
  },
  {
   "cell_type": "code",
   "execution_count": 2,
   "metadata": {},
   "outputs": [
    {
     "data": {
      "text/html": [
       "<div>\n",
       "<style scoped>\n",
       "    .dataframe tbody tr th:only-of-type {\n",
       "        vertical-align: middle;\n",
       "    }\n",
       "\n",
       "    .dataframe tbody tr th {\n",
       "        vertical-align: top;\n",
       "    }\n",
       "\n",
       "    .dataframe thead th {\n",
       "        text-align: right;\n",
       "    }\n",
       "</style>\n",
       "<table border=\"1\" class=\"dataframe\">\n",
       "  <thead>\n",
       "    <tr style=\"text-align: right;\">\n",
       "      <th></th>\n",
       "      <th>time</th>\n",
       "      <th>temp</th>\n",
       "      <th>dwpt</th>\n",
       "      <th>rhum</th>\n",
       "      <th>prcp</th>\n",
       "      <th>snow</th>\n",
       "      <th>wdir</th>\n",
       "      <th>wspd</th>\n",
       "      <th>wpgt</th>\n",
       "      <th>pres</th>\n",
       "      <th>tsun</th>\n",
       "      <th>coco</th>\n",
       "    </tr>\n",
       "  </thead>\n",
       "  <tbody>\n",
       "    <tr>\n",
       "      <th>0</th>\n",
       "      <td>2021-01-02 00:00:00</td>\n",
       "      <td>20.0</td>\n",
       "      <td>17.4</td>\n",
       "      <td>85.0</td>\n",
       "      <td>NaN</td>\n",
       "      <td>NaN</td>\n",
       "      <td>350.0</td>\n",
       "      <td>20.2</td>\n",
       "      <td>NaN</td>\n",
       "      <td>1017.9</td>\n",
       "      <td>NaN</td>\n",
       "      <td>NaN</td>\n",
       "    </tr>\n",
       "    <tr>\n",
       "      <th>1</th>\n",
       "      <td>2021-01-02 03:00:00</td>\n",
       "      <td>20.0</td>\n",
       "      <td>17.8</td>\n",
       "      <td>87.0</td>\n",
       "      <td>0.2</td>\n",
       "      <td>NaN</td>\n",
       "      <td>343.0</td>\n",
       "      <td>17.6</td>\n",
       "      <td>NaN</td>\n",
       "      <td>1016.1</td>\n",
       "      <td>NaN</td>\n",
       "      <td>NaN</td>\n",
       "    </tr>\n",
       "    <tr>\n",
       "      <th>2</th>\n",
       "      <td>2021-01-02 06:00:00</td>\n",
       "      <td>19.8</td>\n",
       "      <td>17.8</td>\n",
       "      <td>88.0</td>\n",
       "      <td>0.1</td>\n",
       "      <td>NaN</td>\n",
       "      <td>339.0</td>\n",
       "      <td>17.6</td>\n",
       "      <td>NaN</td>\n",
       "      <td>1016.7</td>\n",
       "      <td>NaN</td>\n",
       "      <td>NaN</td>\n",
       "    </tr>\n",
       "    <tr>\n",
       "      <th>3</th>\n",
       "      <td>2021-01-02 09:00:00</td>\n",
       "      <td>20.2</td>\n",
       "      <td>18.3</td>\n",
       "      <td>89.0</td>\n",
       "      <td>0.2</td>\n",
       "      <td>NaN</td>\n",
       "      <td>347.0</td>\n",
       "      <td>18.7</td>\n",
       "      <td>NaN</td>\n",
       "      <td>1018.4</td>\n",
       "      <td>NaN</td>\n",
       "      <td>NaN</td>\n",
       "    </tr>\n",
       "    <tr>\n",
       "      <th>4</th>\n",
       "      <td>2021-01-02 12:00:00</td>\n",
       "      <td>22.0</td>\n",
       "      <td>18.0</td>\n",
       "      <td>78.0</td>\n",
       "      <td>0.1</td>\n",
       "      <td>NaN</td>\n",
       "      <td>3.0</td>\n",
       "      <td>28.4</td>\n",
       "      <td>NaN</td>\n",
       "      <td>1016.4</td>\n",
       "      <td>NaN</td>\n",
       "      <td>NaN</td>\n",
       "    </tr>\n",
       "    <tr>\n",
       "      <th>5</th>\n",
       "      <td>2021-01-02 15:00:00</td>\n",
       "      <td>21.4</td>\n",
       "      <td>18.2</td>\n",
       "      <td>82.0</td>\n",
       "      <td>0.2</td>\n",
       "      <td>NaN</td>\n",
       "      <td>2.0</td>\n",
       "      <td>27.4</td>\n",
       "      <td>NaN</td>\n",
       "      <td>1015.0</td>\n",
       "      <td>NaN</td>\n",
       "      <td>NaN</td>\n",
       "    </tr>\n",
       "    <tr>\n",
       "      <th>6</th>\n",
       "      <td>2021-01-02 18:00:00</td>\n",
       "      <td>20.4</td>\n",
       "      <td>18.5</td>\n",
       "      <td>89.0</td>\n",
       "      <td>0.4</td>\n",
       "      <td>NaN</td>\n",
       "      <td>350.0</td>\n",
       "      <td>18.0</td>\n",
       "      <td>NaN</td>\n",
       "      <td>1016.3</td>\n",
       "      <td>NaN</td>\n",
       "      <td>NaN</td>\n",
       "    </tr>\n",
       "    <tr>\n",
       "      <th>7</th>\n",
       "      <td>2021-01-02 21:00:00</td>\n",
       "      <td>20.2</td>\n",
       "      <td>18.5</td>\n",
       "      <td>90.0</td>\n",
       "      <td>0.2</td>\n",
       "      <td>NaN</td>\n",
       "      <td>344.0</td>\n",
       "      <td>17.6</td>\n",
       "      <td>NaN</td>\n",
       "      <td>1017.6</td>\n",
       "      <td>NaN</td>\n",
       "      <td>NaN</td>\n",
       "    </tr>\n",
       "    <tr>\n",
       "      <th>8</th>\n",
       "      <td>2021-01-03 00:00:00</td>\n",
       "      <td>20.1</td>\n",
       "      <td>18.6</td>\n",
       "      <td>91.0</td>\n",
       "      <td>0.3</td>\n",
       "      <td>NaN</td>\n",
       "      <td>345.0</td>\n",
       "      <td>16.2</td>\n",
       "      <td>NaN</td>\n",
       "      <td>1017.3</td>\n",
       "      <td>NaN</td>\n",
       "      <td>NaN</td>\n",
       "    </tr>\n",
       "    <tr>\n",
       "      <th>9</th>\n",
       "      <td>2021-01-03 03:00:00</td>\n",
       "      <td>19.9</td>\n",
       "      <td>18.4</td>\n",
       "      <td>91.0</td>\n",
       "      <td>0.1</td>\n",
       "      <td>NaN</td>\n",
       "      <td>333.0</td>\n",
       "      <td>14.0</td>\n",
       "      <td>NaN</td>\n",
       "      <td>1015.2</td>\n",
       "      <td>NaN</td>\n",
       "      <td>NaN</td>\n",
       "    </tr>\n",
       "  </tbody>\n",
       "</table>\n",
       "</div>"
      ],
      "text/plain": [
       "                  time  temp  dwpt  rhum  prcp  snow   wdir  wspd  wpgt  \\\n",
       "0  2021-01-02 00:00:00  20.0  17.4  85.0   NaN   NaN  350.0  20.2   NaN   \n",
       "1  2021-01-02 03:00:00  20.0  17.8  87.0   0.2   NaN  343.0  17.6   NaN   \n",
       "2  2021-01-02 06:00:00  19.8  17.8  88.0   0.1   NaN  339.0  17.6   NaN   \n",
       "3  2021-01-02 09:00:00  20.2  18.3  89.0   0.2   NaN  347.0  18.7   NaN   \n",
       "4  2021-01-02 12:00:00  22.0  18.0  78.0   0.1   NaN    3.0  28.4   NaN   \n",
       "5  2021-01-02 15:00:00  21.4  18.2  82.0   0.2   NaN    2.0  27.4   NaN   \n",
       "6  2021-01-02 18:00:00  20.4  18.5  89.0   0.4   NaN  350.0  18.0   NaN   \n",
       "7  2021-01-02 21:00:00  20.2  18.5  90.0   0.2   NaN  344.0  17.6   NaN   \n",
       "8  2021-01-03 00:00:00  20.1  18.6  91.0   0.3   NaN  345.0  16.2   NaN   \n",
       "9  2021-01-03 03:00:00  19.9  18.4  91.0   0.1   NaN  333.0  14.0   NaN   \n",
       "\n",
       "     pres  tsun  coco  \n",
       "0  1017.9   NaN   NaN  \n",
       "1  1016.1   NaN   NaN  \n",
       "2  1016.7   NaN   NaN  \n",
       "3  1018.4   NaN   NaN  \n",
       "4  1016.4   NaN   NaN  \n",
       "5  1015.0   NaN   NaN  \n",
       "6  1016.3   NaN   NaN  \n",
       "7  1017.6   NaN   NaN  \n",
       "8  1017.3   NaN   NaN  \n",
       "9  1015.2   NaN   NaN  "
      ]
     },
     "execution_count": 2,
     "metadata": {},
     "output_type": "execute_result"
    }
   ],
   "source": [
    "data = pd.read_csv('../data/raw/weatherQN_2021_2025.csv')\n",
    "data.head(10)"
   ]
  },
  {
   "cell_type": "code",
   "execution_count": 3,
   "metadata": {},
   "outputs": [
    {
     "name": "stdout",
     "output_type": "stream",
     "text": [
      "<class 'pandas.core.frame.DataFrame'>\n",
      "RangeIndex: 12131 entries, 0 to 12130\n",
      "Data columns (total 12 columns):\n",
      " #   Column  Non-Null Count  Dtype  \n",
      "---  ------  --------------  -----  \n",
      " 0   time    12131 non-null  object \n",
      " 1   temp    12131 non-null  float64\n",
      " 2   dwpt    12131 non-null  float64\n",
      " 3   rhum    12131 non-null  float64\n",
      " 4   prcp    12098 non-null  float64\n",
      " 5   snow    0 non-null      float64\n",
      " 6   wdir    12131 non-null  float64\n",
      " 7   wspd    12131 non-null  float64\n",
      " 8   wpgt    0 non-null      float64\n",
      " 9   pres    12131 non-null  float64\n",
      " 10  tsun    0 non-null      float64\n",
      " 11  coco    7890 non-null   float64\n",
      "dtypes: float64(11), object(1)\n",
      "memory usage: 1.1+ MB\n"
     ]
    }
   ],
   "source": [
    "data.info()"
   ]
  },
  {
   "cell_type": "markdown",
   "metadata": {},
   "source": [
    "## Drop Null columns"
   ]
  },
  {
   "cell_type": "code",
   "execution_count": 4,
   "metadata": {},
   "outputs": [],
   "source": [
    "data.drop(columns=['snow', 'wpgt', 'tsun'], inplace=True)"
   ]
  },
  {
   "cell_type": "code",
   "execution_count": 5,
   "metadata": {},
   "outputs": [
    {
     "name": "stdout",
     "output_type": "stream",
     "text": [
      "<class 'pandas.core.frame.DataFrame'>\n",
      "RangeIndex: 12131 entries, 0 to 12130\n",
      "Data columns (total 9 columns):\n",
      " #   Column  Non-Null Count  Dtype  \n",
      "---  ------  --------------  -----  \n",
      " 0   time    12131 non-null  object \n",
      " 1   temp    12131 non-null  float64\n",
      " 2   dwpt    12131 non-null  float64\n",
      " 3   rhum    12131 non-null  float64\n",
      " 4   prcp    12098 non-null  float64\n",
      " 5   wdir    12131 non-null  float64\n",
      " 6   wspd    12131 non-null  float64\n",
      " 7   pres    12131 non-null  float64\n",
      " 8   coco    7890 non-null   float64\n",
      "dtypes: float64(8), object(1)\n",
      "memory usage: 853.1+ KB\n"
     ]
    }
   ],
   "source": [
    "data.info()"
   ]
  },
  {
   "cell_type": "code",
   "execution_count": 6,
   "metadata": {},
   "outputs": [
    {
     "data": {
      "text/html": [
       "<div>\n",
       "<style scoped>\n",
       "    .dataframe tbody tr th:only-of-type {\n",
       "        vertical-align: middle;\n",
       "    }\n",
       "\n",
       "    .dataframe tbody tr th {\n",
       "        vertical-align: top;\n",
       "    }\n",
       "\n",
       "    .dataframe thead th {\n",
       "        text-align: right;\n",
       "    }\n",
       "</style>\n",
       "<table border=\"1\" class=\"dataframe\">\n",
       "  <thead>\n",
       "    <tr style=\"text-align: right;\">\n",
       "      <th></th>\n",
       "      <th>time</th>\n",
       "      <th>temp</th>\n",
       "      <th>dwpt</th>\n",
       "      <th>rhum</th>\n",
       "      <th>prcp</th>\n",
       "      <th>wdir</th>\n",
       "      <th>wspd</th>\n",
       "      <th>pres</th>\n",
       "      <th>coco</th>\n",
       "    </tr>\n",
       "  </thead>\n",
       "  <tbody>\n",
       "    <tr>\n",
       "      <th>0</th>\n",
       "      <td>2021-01-02 00:00:00</td>\n",
       "      <td>20.0</td>\n",
       "      <td>17.4</td>\n",
       "      <td>85.0</td>\n",
       "      <td>NaN</td>\n",
       "      <td>350.0</td>\n",
       "      <td>20.2</td>\n",
       "      <td>1017.9</td>\n",
       "      <td>NaN</td>\n",
       "    </tr>\n",
       "    <tr>\n",
       "      <th>1</th>\n",
       "      <td>2021-01-02 03:00:00</td>\n",
       "      <td>20.0</td>\n",
       "      <td>17.8</td>\n",
       "      <td>87.0</td>\n",
       "      <td>0.2</td>\n",
       "      <td>343.0</td>\n",
       "      <td>17.6</td>\n",
       "      <td>1016.1</td>\n",
       "      <td>NaN</td>\n",
       "    </tr>\n",
       "    <tr>\n",
       "      <th>2</th>\n",
       "      <td>2021-01-02 06:00:00</td>\n",
       "      <td>19.8</td>\n",
       "      <td>17.8</td>\n",
       "      <td>88.0</td>\n",
       "      <td>0.1</td>\n",
       "      <td>339.0</td>\n",
       "      <td>17.6</td>\n",
       "      <td>1016.7</td>\n",
       "      <td>NaN</td>\n",
       "    </tr>\n",
       "    <tr>\n",
       "      <th>3</th>\n",
       "      <td>2021-01-02 09:00:00</td>\n",
       "      <td>20.2</td>\n",
       "      <td>18.3</td>\n",
       "      <td>89.0</td>\n",
       "      <td>0.2</td>\n",
       "      <td>347.0</td>\n",
       "      <td>18.7</td>\n",
       "      <td>1018.4</td>\n",
       "      <td>NaN</td>\n",
       "    </tr>\n",
       "    <tr>\n",
       "      <th>4</th>\n",
       "      <td>2021-01-02 12:00:00</td>\n",
       "      <td>22.0</td>\n",
       "      <td>18.0</td>\n",
       "      <td>78.0</td>\n",
       "      <td>0.1</td>\n",
       "      <td>3.0</td>\n",
       "      <td>28.4</td>\n",
       "      <td>1016.4</td>\n",
       "      <td>NaN</td>\n",
       "    </tr>\n",
       "    <tr>\n",
       "      <th>...</th>\n",
       "      <td>...</td>\n",
       "      <td>...</td>\n",
       "      <td>...</td>\n",
       "      <td>...</td>\n",
       "      <td>...</td>\n",
       "      <td>...</td>\n",
       "      <td>...</td>\n",
       "      <td>...</td>\n",
       "      <td>...</td>\n",
       "    </tr>\n",
       "    <tr>\n",
       "      <th>11466</th>\n",
       "      <td>2024-12-12 04:00:00</td>\n",
       "      <td>24.9</td>\n",
       "      <td>23.5</td>\n",
       "      <td>92.0</td>\n",
       "      <td>NaN</td>\n",
       "      <td>50.0</td>\n",
       "      <td>7.2</td>\n",
       "      <td>1008.4</td>\n",
       "      <td>NaN</td>\n",
       "    </tr>\n",
       "    <tr>\n",
       "      <th>11467</th>\n",
       "      <td>2024-12-12 13:00:00</td>\n",
       "      <td>26.2</td>\n",
       "      <td>23.5</td>\n",
       "      <td>85.0</td>\n",
       "      <td>NaN</td>\n",
       "      <td>20.0</td>\n",
       "      <td>10.8</td>\n",
       "      <td>1009.5</td>\n",
       "      <td>NaN</td>\n",
       "    </tr>\n",
       "    <tr>\n",
       "      <th>11468</th>\n",
       "      <td>2024-12-12 22:00:00</td>\n",
       "      <td>26.2</td>\n",
       "      <td>23.1</td>\n",
       "      <td>83.0</td>\n",
       "      <td>NaN</td>\n",
       "      <td>360.0</td>\n",
       "      <td>3.6</td>\n",
       "      <td>1012.4</td>\n",
       "      <td>NaN</td>\n",
       "    </tr>\n",
       "    <tr>\n",
       "      <th>11469</th>\n",
       "      <td>2024-12-13 07:00:00</td>\n",
       "      <td>25.8</td>\n",
       "      <td>23.7</td>\n",
       "      <td>88.0</td>\n",
       "      <td>NaN</td>\n",
       "      <td>20.0</td>\n",
       "      <td>10.8</td>\n",
       "      <td>1012.0</td>\n",
       "      <td>NaN</td>\n",
       "    </tr>\n",
       "    <tr>\n",
       "      <th>11470</th>\n",
       "      <td>2024-12-13 16:00:00</td>\n",
       "      <td>26.6</td>\n",
       "      <td>22.7</td>\n",
       "      <td>79.0</td>\n",
       "      <td>NaN</td>\n",
       "      <td>360.0</td>\n",
       "      <td>7.2</td>\n",
       "      <td>1010.2</td>\n",
       "      <td>NaN</td>\n",
       "    </tr>\n",
       "  </tbody>\n",
       "</table>\n",
       "<p>4241 rows × 9 columns</p>\n",
       "</div>"
      ],
      "text/plain": [
       "                      time  temp  dwpt  rhum  prcp   wdir  wspd    pres  coco\n",
       "0      2021-01-02 00:00:00  20.0  17.4  85.0   NaN  350.0  20.2  1017.9   NaN\n",
       "1      2021-01-02 03:00:00  20.0  17.8  87.0   0.2  343.0  17.6  1016.1   NaN\n",
       "2      2021-01-02 06:00:00  19.8  17.8  88.0   0.1  339.0  17.6  1016.7   NaN\n",
       "3      2021-01-02 09:00:00  20.2  18.3  89.0   0.2  347.0  18.7  1018.4   NaN\n",
       "4      2021-01-02 12:00:00  22.0  18.0  78.0   0.1    3.0  28.4  1016.4   NaN\n",
       "...                    ...   ...   ...   ...   ...    ...   ...     ...   ...\n",
       "11466  2024-12-12 04:00:00  24.9  23.5  92.0   NaN   50.0   7.2  1008.4   NaN\n",
       "11467  2024-12-12 13:00:00  26.2  23.5  85.0   NaN   20.0  10.8  1009.5   NaN\n",
       "11468  2024-12-12 22:00:00  26.2  23.1  83.0   NaN  360.0   3.6  1012.4   NaN\n",
       "11469  2024-12-13 07:00:00  25.8  23.7  88.0   NaN   20.0  10.8  1012.0   NaN\n",
       "11470  2024-12-13 16:00:00  26.6  22.7  79.0   NaN  360.0   7.2  1010.2   NaN\n",
       "\n",
       "[4241 rows x 9 columns]"
      ]
     },
     "execution_count": 6,
     "metadata": {},
     "output_type": "execute_result"
    }
   ],
   "source": [
    "data[data['coco'].isnull()]"
   ]
  },
  {
   "cell_type": "markdown",
   "metadata": {},
   "source": [
    "## Fill missing values"
   ]
  },
  {
   "cell_type": "markdown",
   "metadata": {},
   "source": [
    "### Fill coco with nearest values because it is the weather condition."
   ]
  },
  {
   "cell_type": "code",
   "execution_count": 7,
   "metadata": {},
   "outputs": [
    {
     "name": "stderr",
     "output_type": "stream",
     "text": [
      "C:\\Users\\admin\\AppData\\Local\\Temp\\ipykernel_10232\\2942262129.py:1: FutureWarning: A value is trying to be set on a copy of a DataFrame or Series through chained assignment using an inplace method.\n",
      "The behavior will change in pandas 3.0. This inplace method will never work because the intermediate object on which we are setting values always behaves as a copy.\n",
      "\n",
      "For example, when doing 'df[col].method(value, inplace=True)', try using 'df.method({col: value}, inplace=True)' or df[col] = df[col].method(value) instead, to perform the operation inplace on the original object.\n",
      "\n",
      "\n",
      "  data['coco'].bfill(inplace=True)\n"
     ]
    }
   ],
   "source": [
    "data['coco'].bfill(inplace=True)"
   ]
  },
  {
   "cell_type": "code",
   "execution_count": 8,
   "metadata": {},
   "outputs": [
    {
     "data": {
      "text/html": [
       "<div>\n",
       "<style scoped>\n",
       "    .dataframe tbody tr th:only-of-type {\n",
       "        vertical-align: middle;\n",
       "    }\n",
       "\n",
       "    .dataframe tbody tr th {\n",
       "        vertical-align: top;\n",
       "    }\n",
       "\n",
       "    .dataframe thead th {\n",
       "        text-align: right;\n",
       "    }\n",
       "</style>\n",
       "<table border=\"1\" class=\"dataframe\">\n",
       "  <thead>\n",
       "    <tr style=\"text-align: right;\">\n",
       "      <th></th>\n",
       "      <th>time</th>\n",
       "      <th>temp</th>\n",
       "      <th>dwpt</th>\n",
       "      <th>rhum</th>\n",
       "      <th>prcp</th>\n",
       "      <th>wdir</th>\n",
       "      <th>wspd</th>\n",
       "      <th>pres</th>\n",
       "      <th>coco</th>\n",
       "    </tr>\n",
       "  </thead>\n",
       "  <tbody>\n",
       "  </tbody>\n",
       "</table>\n",
       "</div>"
      ],
      "text/plain": [
       "Empty DataFrame\n",
       "Columns: [time, temp, dwpt, rhum, prcp, wdir, wspd, pres, coco]\n",
       "Index: []"
      ]
     },
     "execution_count": 8,
     "metadata": {},
     "output_type": "execute_result"
    }
   ],
   "source": [
    "data[data['coco'].isnull()]"
   ]
  },
  {
   "cell_type": "markdown",
   "metadata": {},
   "source": [
    "### Fill prcp with median values"
   ]
  },
  {
   "cell_type": "code",
   "execution_count": 9,
   "metadata": {},
   "outputs": [
    {
     "data": {
      "text/plain": [
       "(33, 9)"
      ]
     },
     "execution_count": 9,
     "metadata": {},
     "output_type": "execute_result"
    }
   ],
   "source": [
    "data[data['prcp'].isnull()].shape"
   ]
  },
  {
   "cell_type": "code",
   "execution_count": 10,
   "metadata": {},
   "outputs": [],
   "source": [
    "data['prcp'] = data['prcp'].fillna(data['prcp'].median())"
   ]
  },
  {
   "cell_type": "code",
   "execution_count": 11,
   "metadata": {},
   "outputs": [
    {
     "data": {
      "text/html": [
       "<div>\n",
       "<style scoped>\n",
       "    .dataframe tbody tr th:only-of-type {\n",
       "        vertical-align: middle;\n",
       "    }\n",
       "\n",
       "    .dataframe tbody tr th {\n",
       "        vertical-align: top;\n",
       "    }\n",
       "\n",
       "    .dataframe thead th {\n",
       "        text-align: right;\n",
       "    }\n",
       "</style>\n",
       "<table border=\"1\" class=\"dataframe\">\n",
       "  <thead>\n",
       "    <tr style=\"text-align: right;\">\n",
       "      <th></th>\n",
       "      <th>time</th>\n",
       "      <th>temp</th>\n",
       "      <th>dwpt</th>\n",
       "      <th>rhum</th>\n",
       "      <th>prcp</th>\n",
       "      <th>wdir</th>\n",
       "      <th>wspd</th>\n",
       "      <th>pres</th>\n",
       "      <th>coco</th>\n",
       "    </tr>\n",
       "  </thead>\n",
       "  <tbody>\n",
       "  </tbody>\n",
       "</table>\n",
       "</div>"
      ],
      "text/plain": [
       "Empty DataFrame\n",
       "Columns: [time, temp, dwpt, rhum, prcp, wdir, wspd, pres, coco]\n",
       "Index: []"
      ]
     },
     "execution_count": 11,
     "metadata": {},
     "output_type": "execute_result"
    }
   ],
   "source": [
    "data[data['prcp'].isnull()]"
   ]
  },
  {
   "cell_type": "markdown",
   "metadata": {},
   "source": [
    "## Save cleaned data"
   ]
  },
  {
   "cell_type": "code",
   "execution_count": 12,
   "metadata": {},
   "outputs": [],
   "source": [
    "data.to_csv('../data/processed/weatherQN_2021_2025_processed.csv', index=False)"
   ]
  },
  {
   "cell_type": "code",
   "execution_count": null,
   "metadata": {},
   "outputs": [],
   "source": []
  }
 ],
 "metadata": {
  "kernelspec": {
   "display_name": "wf",
   "language": "python",
   "name": "python3"
  },
  "language_info": {
   "codemirror_mode": {
    "name": "ipython",
    "version": 3
   },
   "file_extension": ".py",
   "mimetype": "text/x-python",
   "name": "python",
   "nbconvert_exporter": "python",
   "pygments_lexer": "ipython3",
   "version": "3.10.16"
  }
 },
 "nbformat": 4,
 "nbformat_minor": 2
}
