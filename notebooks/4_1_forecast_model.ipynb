{
 "cells": [
  {
   "cell_type": "code",
   "execution_count": 55,
   "metadata": {},
   "outputs": [],
   "source": [
    "import pandas as pd\n",
    "import numpy as np\n",
    "import matplotlib.pyplot as plt\n",
    "import seaborn as sns\n",
    "import xgboost as xgb\n",
    "from sklearn.preprocessing import StandardScaler\n",
    "from sklearn.metrics import mean_squared_error, mean_absolute_error\n",
    "import tensorflow as tf\n",
    "import joblib"
   ]
  },
  {
   "cell_type": "code",
   "execution_count": 56,
   "metadata": {},
   "outputs": [
    {
     "name": "stdout",
     "output_type": "stream",
     "text": [
      "TensorFlow version: 2.10.0\n",
      "TensorFlow built with CUDA: True\n",
      "GPU Available: [PhysicalDevice(name='/physical_device:GPU:0', device_type='GPU')]\n"
     ]
    }
   ],
   "source": [
    "print(\"TensorFlow version:\", tf.__version__)\n",
    "print(\"TensorFlow built with CUDA:\", tf.test.is_built_with_cuda())\n",
    "print(\"GPU Available:\", tf.config.list_physical_devices('GPU'))"
   ]
  },
  {
   "cell_type": "code",
   "execution_count": 57,
   "metadata": {},
   "outputs": [],
   "source": [
    "tf.random.set_seed(42)"
   ]
  },
  {
   "cell_type": "markdown",
   "metadata": {},
   "source": [
    "## Preprocessing Data"
   ]
  },
  {
   "cell_type": "code",
   "execution_count": 58,
   "metadata": {},
   "outputs": [
    {
     "data": {
      "text/html": [
       "<div>\n",
       "<style scoped>\n",
       "    .dataframe tbody tr th:only-of-type {\n",
       "        vertical-align: middle;\n",
       "    }\n",
       "\n",
       "    .dataframe tbody tr th {\n",
       "        vertical-align: top;\n",
       "    }\n",
       "\n",
       "    .dataframe thead th {\n",
       "        text-align: right;\n",
       "    }\n",
       "</style>\n",
       "<table border=\"1\" class=\"dataframe\">\n",
       "  <thead>\n",
       "    <tr style=\"text-align: right;\">\n",
       "      <th></th>\n",
       "      <th>temp</th>\n",
       "      <th>dwpt</th>\n",
       "      <th>rhum</th>\n",
       "      <th>prcp</th>\n",
       "      <th>wdir</th>\n",
       "      <th>wspd</th>\n",
       "      <th>pres</th>\n",
       "    </tr>\n",
       "    <tr>\n",
       "      <th>time</th>\n",
       "      <th></th>\n",
       "      <th></th>\n",
       "      <th></th>\n",
       "      <th></th>\n",
       "      <th></th>\n",
       "      <th></th>\n",
       "      <th></th>\n",
       "    </tr>\n",
       "  </thead>\n",
       "  <tbody>\n",
       "    <tr>\n",
       "      <th>2021-01-02 00:00:00</th>\n",
       "      <td>20.0</td>\n",
       "      <td>17.4</td>\n",
       "      <td>85.0</td>\n",
       "      <td>0.0</td>\n",
       "      <td>350.0</td>\n",
       "      <td>20.2</td>\n",
       "      <td>1017.9</td>\n",
       "    </tr>\n",
       "    <tr>\n",
       "      <th>2021-01-02 03:00:00</th>\n",
       "      <td>20.0</td>\n",
       "      <td>17.8</td>\n",
       "      <td>87.0</td>\n",
       "      <td>0.2</td>\n",
       "      <td>343.0</td>\n",
       "      <td>17.6</td>\n",
       "      <td>1016.1</td>\n",
       "    </tr>\n",
       "    <tr>\n",
       "      <th>2021-01-02 06:00:00</th>\n",
       "      <td>19.8</td>\n",
       "      <td>17.8</td>\n",
       "      <td>88.0</td>\n",
       "      <td>0.1</td>\n",
       "      <td>339.0</td>\n",
       "      <td>17.6</td>\n",
       "      <td>1016.7</td>\n",
       "    </tr>\n",
       "    <tr>\n",
       "      <th>2021-01-02 09:00:00</th>\n",
       "      <td>20.2</td>\n",
       "      <td>18.3</td>\n",
       "      <td>89.0</td>\n",
       "      <td>0.2</td>\n",
       "      <td>347.0</td>\n",
       "      <td>18.7</td>\n",
       "      <td>1018.4</td>\n",
       "    </tr>\n",
       "    <tr>\n",
       "      <th>2021-01-02 12:00:00</th>\n",
       "      <td>22.0</td>\n",
       "      <td>18.0</td>\n",
       "      <td>78.0</td>\n",
       "      <td>0.1</td>\n",
       "      <td>3.0</td>\n",
       "      <td>28.4</td>\n",
       "      <td>1016.4</td>\n",
       "    </tr>\n",
       "  </tbody>\n",
       "</table>\n",
       "</div>"
      ],
      "text/plain": [
       "                     temp  dwpt  rhum  prcp   wdir  wspd    pres\n",
       "time                                                            \n",
       "2021-01-02 00:00:00  20.0  17.4  85.0   0.0  350.0  20.2  1017.9\n",
       "2021-01-02 03:00:00  20.0  17.8  87.0   0.2  343.0  17.6  1016.1\n",
       "2021-01-02 06:00:00  19.8  17.8  88.0   0.1  339.0  17.6  1016.7\n",
       "2021-01-02 09:00:00  20.2  18.3  89.0   0.2  347.0  18.7  1018.4\n",
       "2021-01-02 12:00:00  22.0  18.0  78.0   0.1    3.0  28.4  1016.4"
      ]
     },
     "execution_count": 58,
     "metadata": {},
     "output_type": "execute_result"
    }
   ],
   "source": [
    "data = pd.read_csv(\"../data/processed/weatherQN_2021_2025_processed.csv\", parse_dates=[\"time\"])\n",
    "data.set_index(\"time\", inplace=True)\n",
    "data.drop(columns='coco', inplace=True)\n",
    "\n",
    "data.head()"
   ]
  },
  {
   "cell_type": "code",
   "execution_count": 59,
   "metadata": {},
   "outputs": [
    {
     "data": {
      "text/html": [
       "<div>\n",
       "<style scoped>\n",
       "    .dataframe tbody tr th:only-of-type {\n",
       "        vertical-align: middle;\n",
       "    }\n",
       "\n",
       "    .dataframe tbody tr th {\n",
       "        vertical-align: top;\n",
       "    }\n",
       "\n",
       "    .dataframe thead th {\n",
       "        text-align: right;\n",
       "    }\n",
       "</style>\n",
       "<table border=\"1\" class=\"dataframe\">\n",
       "  <thead>\n",
       "    <tr style=\"text-align: right;\">\n",
       "      <th></th>\n",
       "      <th>temp</th>\n",
       "      <th>dwpt</th>\n",
       "      <th>rhum</th>\n",
       "      <th>prcp</th>\n",
       "      <th>wdir</th>\n",
       "      <th>wspd</th>\n",
       "      <th>pres</th>\n",
       "    </tr>\n",
       "    <tr>\n",
       "      <th>time</th>\n",
       "      <th></th>\n",
       "      <th></th>\n",
       "      <th></th>\n",
       "      <th></th>\n",
       "      <th></th>\n",
       "      <th></th>\n",
       "      <th></th>\n",
       "    </tr>\n",
       "  </thead>\n",
       "  <tbody>\n",
       "    <tr>\n",
       "      <th>2021-01-02 00:00:00</th>\n",
       "      <td>20.0</td>\n",
       "      <td>17.4</td>\n",
       "      <td>85.0</td>\n",
       "      <td>0.0</td>\n",
       "      <td>350.0</td>\n",
       "      <td>20.2</td>\n",
       "      <td>1017.9</td>\n",
       "    </tr>\n",
       "    <tr>\n",
       "      <th>2021-01-02 03:00:00</th>\n",
       "      <td>20.0</td>\n",
       "      <td>17.8</td>\n",
       "      <td>87.0</td>\n",
       "      <td>0.2</td>\n",
       "      <td>343.0</td>\n",
       "      <td>17.6</td>\n",
       "      <td>1016.1</td>\n",
       "    </tr>\n",
       "    <tr>\n",
       "      <th>2021-01-02 06:00:00</th>\n",
       "      <td>19.8</td>\n",
       "      <td>17.8</td>\n",
       "      <td>88.0</td>\n",
       "      <td>0.1</td>\n",
       "      <td>339.0</td>\n",
       "      <td>17.6</td>\n",
       "      <td>1016.7</td>\n",
       "    </tr>\n",
       "    <tr>\n",
       "      <th>2021-01-02 09:00:00</th>\n",
       "      <td>20.2</td>\n",
       "      <td>18.3</td>\n",
       "      <td>89.0</td>\n",
       "      <td>0.2</td>\n",
       "      <td>347.0</td>\n",
       "      <td>18.7</td>\n",
       "      <td>1018.4</td>\n",
       "    </tr>\n",
       "    <tr>\n",
       "      <th>2021-01-02 12:00:00</th>\n",
       "      <td>22.0</td>\n",
       "      <td>18.0</td>\n",
       "      <td>78.0</td>\n",
       "      <td>0.1</td>\n",
       "      <td>3.0</td>\n",
       "      <td>28.4</td>\n",
       "      <td>1016.4</td>\n",
       "    </tr>\n",
       "  </tbody>\n",
       "</table>\n",
       "</div>"
      ],
      "text/plain": [
       "                     temp  dwpt  rhum  prcp   wdir  wspd    pres\n",
       "time                                                            \n",
       "2021-01-02 00:00:00  20.0  17.4  85.0   0.0  350.0  20.2  1017.9\n",
       "2021-01-02 03:00:00  20.0  17.8  87.0   0.2  343.0  17.6  1016.1\n",
       "2021-01-02 06:00:00  19.8  17.8  88.0   0.1  339.0  17.6  1016.7\n",
       "2021-01-02 09:00:00  20.2  18.3  89.0   0.2  347.0  18.7  1018.4\n",
       "2021-01-02 12:00:00  22.0  18.0  78.0   0.1    3.0  28.4  1016.4"
      ]
     },
     "execution_count": 59,
     "metadata": {},
     "output_type": "execute_result"
    }
   ],
   "source": [
    "data.head()"
   ]
  },
  {
   "cell_type": "markdown",
   "metadata": {},
   "source": [
    "### Scaling data"
   ]
  },
  {
   "cell_type": "code",
   "execution_count": 60,
   "metadata": {},
   "outputs": [],
   "source": [
    "scaler = StandardScaler()\n",
    "features = ['temp', 'dwpt', 'rhum', 'prcp', 'wdir', 'wspd', 'pres']\n",
    "data[features] = scaler.fit_transform(data[features])"
   ]
  },
  {
   "cell_type": "code",
   "execution_count": 61,
   "metadata": {},
   "outputs": [
    {
     "data": {
      "text/html": [
       "<div>\n",
       "<style scoped>\n",
       "    .dataframe tbody tr th:only-of-type {\n",
       "        vertical-align: middle;\n",
       "    }\n",
       "\n",
       "    .dataframe tbody tr th {\n",
       "        vertical-align: top;\n",
       "    }\n",
       "\n",
       "    .dataframe thead th {\n",
       "        text-align: right;\n",
       "    }\n",
       "</style>\n",
       "<table border=\"1\" class=\"dataframe\">\n",
       "  <thead>\n",
       "    <tr style=\"text-align: right;\">\n",
       "      <th></th>\n",
       "      <th>temp</th>\n",
       "      <th>dwpt</th>\n",
       "      <th>rhum</th>\n",
       "      <th>prcp</th>\n",
       "      <th>wdir</th>\n",
       "      <th>wspd</th>\n",
       "      <th>pres</th>\n",
       "    </tr>\n",
       "    <tr>\n",
       "      <th>time</th>\n",
       "      <th></th>\n",
       "      <th></th>\n",
       "      <th></th>\n",
       "      <th></th>\n",
       "      <th></th>\n",
       "      <th></th>\n",
       "      <th></th>\n",
       "    </tr>\n",
       "  </thead>\n",
       "  <tbody>\n",
       "    <tr>\n",
       "      <th>2021-01-02 00:00:00</th>\n",
       "      <td>-1.773390</td>\n",
       "      <td>-2.171929</td>\n",
       "      <td>0.344100</td>\n",
       "      <td>-0.238101</td>\n",
       "      <td>1.356535</td>\n",
       "      <td>0.661832</td>\n",
       "      <td>1.704744</td>\n",
       "    </tr>\n",
       "    <tr>\n",
       "      <th>2021-01-02 03:00:00</th>\n",
       "      <td>-1.773390</td>\n",
       "      <td>-2.001610</td>\n",
       "      <td>0.510492</td>\n",
       "      <td>-0.034256</td>\n",
       "      <td>1.296365</td>\n",
       "      <td>0.366584</td>\n",
       "      <td>1.292547</td>\n",
       "    </tr>\n",
       "    <tr>\n",
       "      <th>2021-01-02 06:00:00</th>\n",
       "      <td>-1.829889</td>\n",
       "      <td>-2.001610</td>\n",
       "      <td>0.593688</td>\n",
       "      <td>-0.136179</td>\n",
       "      <td>1.261982</td>\n",
       "      <td>0.366584</td>\n",
       "      <td>1.429946</td>\n",
       "    </tr>\n",
       "    <tr>\n",
       "      <th>2021-01-02 09:00:00</th>\n",
       "      <td>-1.716890</td>\n",
       "      <td>-1.788713</td>\n",
       "      <td>0.676884</td>\n",
       "      <td>-0.034256</td>\n",
       "      <td>1.330747</td>\n",
       "      <td>0.491497</td>\n",
       "      <td>1.819243</td>\n",
       "    </tr>\n",
       "    <tr>\n",
       "      <th>2021-01-02 12:00:00</th>\n",
       "      <td>-1.208397</td>\n",
       "      <td>-1.916451</td>\n",
       "      <td>-0.238272</td>\n",
       "      <td>-0.136179</td>\n",
       "      <td>-1.626187</td>\n",
       "      <td>1.592998</td>\n",
       "      <td>1.361246</td>\n",
       "    </tr>\n",
       "  </tbody>\n",
       "</table>\n",
       "</div>"
      ],
      "text/plain": [
       "                         temp      dwpt      rhum      prcp      wdir  \\\n",
       "time                                                                    \n",
       "2021-01-02 00:00:00 -1.773390 -2.171929  0.344100 -0.238101  1.356535   \n",
       "2021-01-02 03:00:00 -1.773390 -2.001610  0.510492 -0.034256  1.296365   \n",
       "2021-01-02 06:00:00 -1.829889 -2.001610  0.593688 -0.136179  1.261982   \n",
       "2021-01-02 09:00:00 -1.716890 -1.788713  0.676884 -0.034256  1.330747   \n",
       "2021-01-02 12:00:00 -1.208397 -1.916451 -0.238272 -0.136179 -1.626187   \n",
       "\n",
       "                         wspd      pres  \n",
       "time                                     \n",
       "2021-01-02 00:00:00  0.661832  1.704744  \n",
       "2021-01-02 03:00:00  0.366584  1.292547  \n",
       "2021-01-02 06:00:00  0.366584  1.429946  \n",
       "2021-01-02 09:00:00  0.491497  1.819243  \n",
       "2021-01-02 12:00:00  1.592998  1.361246  "
      ]
     },
     "execution_count": 61,
     "metadata": {},
     "output_type": "execute_result"
    }
   ],
   "source": [
    "data.head()"
   ]
  },
  {
   "cell_type": "code",
   "execution_count": 62,
   "metadata": {},
   "outputs": [
    {
     "name": "stdout",
     "output_type": "stream",
     "text": [
      "Train size: 8746, Val size: 1704, Test size: 1585\n"
     ]
    }
   ],
   "source": [
    "train_data = data.loc[\"2021\":\"2023\"]\n",
    "val_data = data.loc[\"2024-01\":\"2024-07\"]\n",
    "test_data = data.loc[\"2024-08\":]\n",
    "\n",
    "print(f\"Train size: {len(train_data)}, Val size: {len(val_data)}, Test size: {len(test_data)}\")"
   ]
  },
  {
   "cell_type": "markdown",
   "metadata": {},
   "source": [
    "## Prepare data in time step"
   ]
  },
  {
   "cell_type": "code",
   "execution_count": 63,
   "metadata": {},
   "outputs": [],
   "source": [
    "def timestep_split(data, n_timestep=56, n_future=8): # 56 values of hours -> 7 days, 8 values of hours -> 1 day --> use 7 days to predict 1 day\n",
    "    X, y = [], []\n",
    "    for i in range(len(data) - n_timestep - n_future):\n",
    "        X.append(data.iloc[i:i+n_timestep][features].values)\n",
    "        y.append(data.iloc[i+n_timestep:i+n_timestep+n_future][features].values)\n",
    "    return np.array(X), np.array(y)"
   ]
  },
  {
   "cell_type": "code",
   "execution_count": 64,
   "metadata": {},
   "outputs": [],
   "source": [
    "X_train, y_train = timestep_split(train_data)\n",
    "X_val, y_val = timestep_split(val_data)\n",
    "X_test, y_test = timestep_split(test_data)"
   ]
  },
  {
   "cell_type": "code",
   "execution_count": 65,
   "metadata": {},
   "outputs": [
    {
     "data": {
      "text/plain": [
       "array([-1.77338967, -2.17192862,  0.34410011, -0.23810074,  1.35653471,\n",
       "        0.6618319 ,  1.7047438 ])"
      ]
     },
     "execution_count": 65,
     "metadata": {},
     "output_type": "execute_result"
    }
   ],
   "source": [
    "X_train[0][0]"
   ]
  },
  {
   "cell_type": "code",
   "execution_count": 66,
   "metadata": {},
   "outputs": [
    {
     "name": "stdout",
     "output_type": "stream",
     "text": [
      "Train shape: (8682, 56, 7), Val shape: (1640, 56, 7), Test shape: (1521, 56, 7)\n"
     ]
    }
   ],
   "source": [
    "print(f\"Train shape: {X_train.shape}, Val shape: {X_val.shape}, Test shape: {X_test.shape}\")"
   ]
  },
  {
   "cell_type": "code",
   "execution_count": 67,
   "metadata": {},
   "outputs": [
    {
     "name": "stdout",
     "output_type": "stream",
     "text": [
      "Shape X_train: (8682, 56, 7)\n",
      "Shape y_train: (8682, 8, 7)\n"
     ]
    }
   ],
   "source": [
    "# Convert to tensors\n",
    "X_train_tensor = tf.convert_to_tensor(X_train, dtype=tf.float32)\n",
    "y_train_tensor = tf.convert_to_tensor(y_train, dtype=tf.float32)\n",
    "X_val_tensor = tf.convert_to_tensor(X_val, dtype=tf.float32)\n",
    "y_val_tensor = tf.convert_to_tensor(y_val, dtype=tf.float32)\n",
    "X_test_tensor = tf.convert_to_tensor(X_test, dtype=tf.float32)\n",
    "y_test_tensor = tf.convert_to_tensor(y_test, dtype=tf.float32)\n",
    "\n",
    "print(\"Shape X_train:\", X_train_tensor.shape)\n",
    "print(\"Shape y_train:\", y_train_tensor.shape)"
   ]
  },
  {
   "cell_type": "markdown",
   "metadata": {},
   "source": [
    "## Builidng models"
   ]
  },
  {
   "cell_type": "code",
   "execution_count": null,
   "metadata": {},
   "outputs": [],
   "source": [
    "best_model_path = '../models/best_forecast_model'"
   ]
  },
  {
   "cell_type": "code",
   "execution_count": 69,
   "metadata": {},
   "outputs": [
    {
     "data": {
      "text/plain": [
       "['../models/scalers/scaler.pkl']"
      ]
     },
     "execution_count": 69,
     "metadata": {},
     "output_type": "execute_result"
    }
   ],
   "source": [
    "# Save Scaler\n",
    "scaler_path = \"../models/scalers/scaler.pkl\"\n",
    "joblib.dump(scaler, scaler_path)"
   ]
  },
  {
   "cell_type": "markdown",
   "metadata": {},
   "source": [
    "### LSTM Model"
   ]
  },
  {
   "cell_type": "code",
   "execution_count": 70,
   "metadata": {},
   "outputs": [
    {
     "name": "stdout",
     "output_type": "stream",
     "text": [
      "Model: \"sequential_2\"\n",
      "_________________________________________________________________\n",
      " Layer (type)                Output Shape              Param #   \n",
      "=================================================================\n",
      " lstm_6 (LSTM)               (None, 56, 128)           69632     \n",
      "                                                                 \n",
      " dropout_6 (Dropout)         (None, 56, 128)           0         \n",
      "                                                                 \n",
      " lstm_7 (LSTM)               (None, 56, 64)            49408     \n",
      "                                                                 \n",
      " dropout_7 (Dropout)         (None, 56, 64)            0         \n",
      "                                                                 \n",
      " lstm_8 (LSTM)               (None, 32)                12416     \n",
      "                                                                 \n",
      " dropout_8 (Dropout)         (None, 32)                0         \n",
      "                                                                 \n",
      " dense_2 (Dense)             (None, 56)                1848      \n",
      "                                                                 \n",
      " reshape_2 (Reshape)         (None, 8, 7)              0         \n",
      "                                                                 \n",
      "=================================================================\n",
      "Total params: 133,304\n",
      "Trainable params: 133,304\n",
      "Non-trainable params: 0\n",
      "_________________________________________________________________\n"
     ]
    }
   ],
   "source": [
    "model = tf.keras.models.Sequential([\n",
    "    tf.keras.layers.LSTM(128, return_sequences=True, input_shape=(56, len(features))),\n",
    "    tf.keras.layers.Dropout(0.2),\n",
    "    tf.keras.layers.LSTM(64, return_sequences=True),\n",
    "    tf.keras.layers.Dropout(0.2),\n",
    "    tf.keras.layers.LSTM(32),\n",
    "    tf.keras.layers.Dropout(0.2),\n",
    "    tf.keras.layers.Dense(8 * len(features)),\n",
    "    tf.keras.layers.Reshape((8, len(features))) \n",
    "])\n",
    "\n",
    "model.compile(optimizer=tf.keras.optimizers.Adam(learning_rate=0.001), loss=\"mse\", metrics=[\"mae\"])\n",
    "model.summary()"
   ]
  },
  {
   "cell_type": "code",
   "execution_count": 71,
   "metadata": {},
   "outputs": [
    {
     "name": "stdout",
     "output_type": "stream",
     "text": [
      "Epoch 1/50\n",
      "269/272 [============================>.] - ETA: 0s - loss: 0.6307 - mae: 0.5544"
     ]
    },
    {
     "name": "stderr",
     "output_type": "stream",
     "text": [
      "WARNING:absl:Found untraced functions such as lstm_cell_12_layer_call_fn, lstm_cell_12_layer_call_and_return_conditional_losses, lstm_cell_13_layer_call_fn, lstm_cell_13_layer_call_and_return_conditional_losses, lstm_cell_14_layer_call_fn while saving (showing 5 of 6). These functions will not be directly callable after loading.\n"
     ]
    },
    {
     "name": "stdout",
     "output_type": "stream",
     "text": [
      "INFO:tensorflow:Assets written to: ../models\\best_LSTM_model\\assets\n"
     ]
    },
    {
     "name": "stderr",
     "output_type": "stream",
     "text": [
      "INFO:tensorflow:Assets written to: ../models\\best_LSTM_model\\assets\n"
     ]
    },
    {
     "name": "stdout",
     "output_type": "stream",
     "text": [
      "272/272 [==============================] - 16s 47ms/step - loss: 0.6299 - mae: 0.5540 - val_loss: 0.4624 - val_mae: 0.5039\n",
      "Epoch 2/50\n",
      "269/272 [============================>.] - ETA: 0s - loss: 0.5393 - mae: 0.4996"
     ]
    },
    {
     "name": "stderr",
     "output_type": "stream",
     "text": [
      "WARNING:absl:Found untraced functions such as lstm_cell_12_layer_call_fn, lstm_cell_12_layer_call_and_return_conditional_losses, lstm_cell_13_layer_call_fn, lstm_cell_13_layer_call_and_return_conditional_losses, lstm_cell_14_layer_call_fn while saving (showing 5 of 6). These functions will not be directly callable after loading.\n"
     ]
    },
    {
     "name": "stdout",
     "output_type": "stream",
     "text": [
      "INFO:tensorflow:Assets written to: ../models\\best_LSTM_model\\assets\n"
     ]
    },
    {
     "name": "stderr",
     "output_type": "stream",
     "text": [
      "INFO:tensorflow:Assets written to: ../models\\best_LSTM_model\\assets\n"
     ]
    },
    {
     "name": "stdout",
     "output_type": "stream",
     "text": [
      "272/272 [==============================] - 11s 41ms/step - loss: 0.5385 - mae: 0.4994 - val_loss: 0.4283 - val_mae: 0.4763\n",
      "Epoch 3/50\n",
      "272/272 [==============================] - ETA: 0s - loss: 0.4500 - mae: 0.4369"
     ]
    },
    {
     "name": "stderr",
     "output_type": "stream",
     "text": [
      "WARNING:absl:Found untraced functions such as lstm_cell_12_layer_call_fn, lstm_cell_12_layer_call_and_return_conditional_losses, lstm_cell_13_layer_call_fn, lstm_cell_13_layer_call_and_return_conditional_losses, lstm_cell_14_layer_call_fn while saving (showing 5 of 6). These functions will not be directly callable after loading.\n"
     ]
    },
    {
     "name": "stdout",
     "output_type": "stream",
     "text": [
      "INFO:tensorflow:Assets written to: ../models\\best_LSTM_model\\assets\n"
     ]
    },
    {
     "name": "stderr",
     "output_type": "stream",
     "text": [
      "INFO:tensorflow:Assets written to: ../models\\best_LSTM_model\\assets\n"
     ]
    },
    {
     "name": "stdout",
     "output_type": "stream",
     "text": [
      "272/272 [==============================] - 11s 42ms/step - loss: 0.4500 - mae: 0.4369 - val_loss: 0.2585 - val_mae: 0.3555\n",
      "Epoch 4/50\n",
      "270/272 [============================>.] - ETA: 0s - loss: 0.3885 - mae: 0.3933"
     ]
    },
    {
     "name": "stderr",
     "output_type": "stream",
     "text": [
      "WARNING:absl:Found untraced functions such as lstm_cell_12_layer_call_fn, lstm_cell_12_layer_call_and_return_conditional_losses, lstm_cell_13_layer_call_fn, lstm_cell_13_layer_call_and_return_conditional_losses, lstm_cell_14_layer_call_fn while saving (showing 5 of 6). These functions will not be directly callable after loading.\n"
     ]
    },
    {
     "name": "stdout",
     "output_type": "stream",
     "text": [
      "INFO:tensorflow:Assets written to: ../models\\best_LSTM_model\\assets\n"
     ]
    },
    {
     "name": "stderr",
     "output_type": "stream",
     "text": [
      "INFO:tensorflow:Assets written to: ../models\\best_LSTM_model\\assets\n"
     ]
    },
    {
     "name": "stdout",
     "output_type": "stream",
     "text": [
      "272/272 [==============================] - 11s 41ms/step - loss: 0.3937 - mae: 0.3934 - val_loss: 0.2487 - val_mae: 0.3470\n",
      "Epoch 5/50\n",
      "269/272 [============================>.] - ETA: 0s - loss: 0.3747 - mae: 0.3810"
     ]
    },
    {
     "name": "stderr",
     "output_type": "stream",
     "text": [
      "WARNING:absl:Found untraced functions such as lstm_cell_12_layer_call_fn, lstm_cell_12_layer_call_and_return_conditional_losses, lstm_cell_13_layer_call_fn, lstm_cell_13_layer_call_and_return_conditional_losses, lstm_cell_14_layer_call_fn while saving (showing 5 of 6). These functions will not be directly callable after loading.\n"
     ]
    },
    {
     "name": "stdout",
     "output_type": "stream",
     "text": [
      "INFO:tensorflow:Assets written to: ../models\\best_LSTM_model\\assets\n"
     ]
    },
    {
     "name": "stderr",
     "output_type": "stream",
     "text": [
      "INFO:tensorflow:Assets written to: ../models\\best_LSTM_model\\assets\n"
     ]
    },
    {
     "name": "stdout",
     "output_type": "stream",
     "text": [
      "272/272 [==============================] - 12s 43ms/step - loss: 0.3739 - mae: 0.3810 - val_loss: 0.2448 - val_mae: 0.3386\n",
      "Epoch 6/50\n",
      "272/272 [==============================] - ETA: 0s - loss: 0.3583 - mae: 0.3703"
     ]
    },
    {
     "name": "stderr",
     "output_type": "stream",
     "text": [
      "WARNING:absl:Found untraced functions such as lstm_cell_12_layer_call_fn, lstm_cell_12_layer_call_and_return_conditional_losses, lstm_cell_13_layer_call_fn, lstm_cell_13_layer_call_and_return_conditional_losses, lstm_cell_14_layer_call_fn while saving (showing 5 of 6). These functions will not be directly callable after loading.\n"
     ]
    },
    {
     "name": "stdout",
     "output_type": "stream",
     "text": [
      "INFO:tensorflow:Assets written to: ../models\\best_LSTM_model\\assets\n"
     ]
    },
    {
     "name": "stderr",
     "output_type": "stream",
     "text": [
      "INFO:tensorflow:Assets written to: ../models\\best_LSTM_model\\assets\n"
     ]
    },
    {
     "name": "stdout",
     "output_type": "stream",
     "text": [
      "272/272 [==============================] - 12s 43ms/step - loss: 0.3583 - mae: 0.3703 - val_loss: 0.2413 - val_mae: 0.3393\n",
      "Epoch 7/50\n",
      "270/272 [============================>.] - ETA: 0s - loss: 0.3424 - mae: 0.3616"
     ]
    },
    {
     "name": "stderr",
     "output_type": "stream",
     "text": [
      "WARNING:absl:Found untraced functions such as lstm_cell_12_layer_call_fn, lstm_cell_12_layer_call_and_return_conditional_losses, lstm_cell_13_layer_call_fn, lstm_cell_13_layer_call_and_return_conditional_losses, lstm_cell_14_layer_call_fn while saving (showing 5 of 6). These functions will not be directly callable after loading.\n"
     ]
    },
    {
     "name": "stdout",
     "output_type": "stream",
     "text": [
      "INFO:tensorflow:Assets written to: ../models\\best_LSTM_model\\assets\n"
     ]
    },
    {
     "name": "stderr",
     "output_type": "stream",
     "text": [
      "INFO:tensorflow:Assets written to: ../models\\best_LSTM_model\\assets\n"
     ]
    },
    {
     "name": "stdout",
     "output_type": "stream",
     "text": [
      "272/272 [==============================] - 11s 40ms/step - loss: 0.3422 - mae: 0.3617 - val_loss: 0.2305 - val_mae: 0.3265\n",
      "Epoch 8/50\n",
      "270/272 [============================>.] - ETA: 0s - loss: 0.3333 - mae: 0.3560"
     ]
    },
    {
     "name": "stderr",
     "output_type": "stream",
     "text": [
      "WARNING:absl:Found untraced functions such as lstm_cell_12_layer_call_fn, lstm_cell_12_layer_call_and_return_conditional_losses, lstm_cell_13_layer_call_fn, lstm_cell_13_layer_call_and_return_conditional_losses, lstm_cell_14_layer_call_fn while saving (showing 5 of 6). These functions will not be directly callable after loading.\n"
     ]
    },
    {
     "name": "stdout",
     "output_type": "stream",
     "text": [
      "INFO:tensorflow:Assets written to: ../models\\best_LSTM_model\\assets\n"
     ]
    },
    {
     "name": "stderr",
     "output_type": "stream",
     "text": [
      "INFO:tensorflow:Assets written to: ../models\\best_LSTM_model\\assets\n"
     ]
    },
    {
     "name": "stdout",
     "output_type": "stream",
     "text": [
      "272/272 [==============================] - 12s 43ms/step - loss: 0.3327 - mae: 0.3559 - val_loss: 0.2301 - val_mae: 0.3273\n",
      "Epoch 9/50\n",
      "272/272 [==============================] - 5s 17ms/step - loss: 0.3238 - mae: 0.3505 - val_loss: 0.2390 - val_mae: 0.3341\n",
      "Epoch 10/50\n",
      "272/272 [==============================] - 4s 16ms/step - loss: 0.3157 - mae: 0.3462 - val_loss: 0.2326 - val_mae: 0.3265\n",
      "Epoch 11/50\n",
      "272/272 [==============================] - 4s 16ms/step - loss: 0.3098 - mae: 0.3425 - val_loss: 0.2345 - val_mae: 0.3280\n",
      "Epoch 12/50\n",
      "272/272 [==============================] - 4s 16ms/step - loss: 0.3064 - mae: 0.3409 - val_loss: 0.2318 - val_mae: 0.3265\n",
      "Epoch 13/50\n",
      "272/272 [==============================] - 4s 16ms/step - loss: 0.3048 - mae: 0.3397 - val_loss: 0.2330 - val_mae: 0.3266\n",
      "Epoch 14/50\n",
      "272/272 [==============================] - 4s 16ms/step - loss: 0.2924 - mae: 0.3326 - val_loss: 0.2355 - val_mae: 0.3277\n",
      "Epoch 15/50\n",
      "272/272 [==============================] - 4s 16ms/step - loss: 0.2893 - mae: 0.3309 - val_loss: 0.2384 - val_mae: 0.3314\n",
      "Epoch 16/50\n",
      "272/272 [==============================] - 4s 16ms/step - loss: 0.2859 - mae: 0.3292 - val_loss: 0.2405 - val_mae: 0.3314\n",
      "Epoch 17/50\n",
      "272/272 [==============================] - 5s 17ms/step - loss: 0.2829 - mae: 0.3281 - val_loss: 0.2421 - val_mae: 0.3336\n",
      "Epoch 18/50\n",
      "272/272 [==============================] - 5s 17ms/step - loss: 0.2800 - mae: 0.3265 - val_loss: 0.2470 - val_mae: 0.3371\n",
      "Epoch 19/50\n",
      "272/272 [==============================] - 4s 16ms/step - loss: 0.2791 - mae: 0.3266 - val_loss: 0.2457 - val_mae: 0.3366\n",
      "Epoch 20/50\n",
      "272/272 [==============================] - 4s 16ms/step - loss: 0.2742 - mae: 0.3241 - val_loss: 0.2501 - val_mae: 0.3376\n",
      "Epoch 21/50\n",
      "272/272 [==============================] - 4s 16ms/step - loss: 0.2703 - mae: 0.3224 - val_loss: 0.2482 - val_mae: 0.3368\n",
      "Epoch 22/50\n",
      "272/272 [==============================] - 4s 16ms/step - loss: 0.2695 - mae: 0.3216 - val_loss: 0.2505 - val_mae: 0.3403\n",
      "Epoch 23/50\n",
      "272/272 [==============================] - 4s 16ms/step - loss: 0.2678 - mae: 0.3205 - val_loss: 0.2476 - val_mae: 0.3373\n",
      "Epoch 24/50\n",
      "272/272 [==============================] - 4s 16ms/step - loss: 0.2644 - mae: 0.3196 - val_loss: 0.2473 - val_mae: 0.3354\n",
      "Epoch 25/50\n",
      "272/272 [==============================] - 4s 16ms/step - loss: 0.2613 - mae: 0.3183 - val_loss: 0.2534 - val_mae: 0.3423\n",
      "Epoch 26/50\n",
      "272/272 [==============================] - 4s 15ms/step - loss: 0.2602 - mae: 0.3173 - val_loss: 0.2542 - val_mae: 0.3418\n",
      "Epoch 27/50\n",
      "272/272 [==============================] - 4s 16ms/step - loss: 0.2576 - mae: 0.3158 - val_loss: 0.2572 - val_mae: 0.3436\n",
      "Epoch 28/50\n",
      "272/272 [==============================] - 5s 17ms/step - loss: 0.2555 - mae: 0.3154 - val_loss: 0.2509 - val_mae: 0.3378\n",
      "Epoch 29/50\n",
      "272/272 [==============================] - 4s 16ms/step - loss: 0.2567 - mae: 0.3160 - val_loss: 0.2692 - val_mae: 0.3499\n",
      "Epoch 30/50\n",
      "272/272 [==============================] - 4s 16ms/step - loss: 0.2529 - mae: 0.3143 - val_loss: 0.2676 - val_mae: 0.3509\n",
      "Epoch 31/50\n",
      "272/272 [==============================] - 4s 16ms/step - loss: 0.2511 - mae: 0.3141 - val_loss: 0.2575 - val_mae: 0.3442\n",
      "Epoch 32/50\n",
      "272/272 [==============================] - 4s 16ms/step - loss: 0.2522 - mae: 0.3136 - val_loss: 0.2563 - val_mae: 0.3434\n",
      "Epoch 33/50\n",
      "272/272 [==============================] - 4s 16ms/step - loss: 0.2513 - mae: 0.3132 - val_loss: 0.2609 - val_mae: 0.3459\n",
      "Epoch 34/50\n",
      "272/272 [==============================] - 4s 16ms/step - loss: 0.2481 - mae: 0.3124 - val_loss: 0.2519 - val_mae: 0.3397\n",
      "Epoch 35/50\n",
      "272/272 [==============================] - 4s 16ms/step - loss: 0.2482 - mae: 0.3119 - val_loss: 0.2570 - val_mae: 0.3433\n",
      "Epoch 36/50\n",
      "272/272 [==============================] - 4s 16ms/step - loss: 0.2465 - mae: 0.3110 - val_loss: 0.2666 - val_mae: 0.3515\n",
      "Epoch 37/50\n",
      "272/272 [==============================] - 4s 16ms/step - loss: 0.2452 - mae: 0.3121 - val_loss: 0.2577 - val_mae: 0.3433\n",
      "Epoch 38/50\n",
      "272/272 [==============================] - 4s 16ms/step - loss: 0.2432 - mae: 0.3100 - val_loss: 0.2604 - val_mae: 0.3465\n",
      "Epoch 39/50\n",
      "272/272 [==============================] - 4s 16ms/step - loss: 0.2444 - mae: 0.3099 - val_loss: 0.2611 - val_mae: 0.3483\n",
      "Epoch 40/50\n",
      "272/272 [==============================] - 4s 16ms/step - loss: 0.2399 - mae: 0.3082 - val_loss: 0.2558 - val_mae: 0.3439\n",
      "Epoch 41/50\n",
      "272/272 [==============================] - 4s 16ms/step - loss: 0.2408 - mae: 0.3093 - val_loss: 0.2563 - val_mae: 0.3425\n",
      "Epoch 42/50\n",
      "272/272 [==============================] - 4s 16ms/step - loss: 0.2398 - mae: 0.3082 - val_loss: 0.2631 - val_mae: 0.3476\n",
      "Epoch 43/50\n",
      "272/272 [==============================] - 4s 16ms/step - loss: 0.2384 - mae: 0.3076 - val_loss: 0.2671 - val_mae: 0.3522\n",
      "Epoch 44/50\n",
      "272/272 [==============================] - 5s 17ms/step - loss: 0.2375 - mae: 0.3077 - val_loss: 0.2574 - val_mae: 0.3452\n",
      "Epoch 45/50\n",
      "272/272 [==============================] - 4s 16ms/step - loss: 0.2388 - mae: 0.3079 - val_loss: 0.2626 - val_mae: 0.3473\n",
      "Epoch 46/50\n",
      "272/272 [==============================] - 4s 16ms/step - loss: 0.2362 - mae: 0.3069 - val_loss: 0.2677 - val_mae: 0.3520\n",
      "Epoch 47/50\n",
      "272/272 [==============================] - 4s 16ms/step - loss: 0.2361 - mae: 0.3077 - val_loss: 0.2689 - val_mae: 0.3540\n",
      "Epoch 48/50\n",
      "272/272 [==============================] - 4s 15ms/step - loss: 0.2342 - mae: 0.3061 - val_loss: 0.2624 - val_mae: 0.3480\n",
      "Epoch 49/50\n",
      "272/272 [==============================] - 4s 15ms/step - loss: 0.2350 - mae: 0.3068 - val_loss: 0.2579 - val_mae: 0.3450\n",
      "Epoch 50/50\n",
      "272/272 [==============================] - 5s 17ms/step - loss: 0.2325 - mae: 0.3046 - val_loss: 0.2659 - val_mae: 0.3514\n"
     ]
    }
   ],
   "source": [
    "checkpoint = tf.keras.callbacks.ModelCheckpoint(filepath=best_model_path, monitor='val_loss', save_best_only=True)\n",
    "\n",
    "history = model.fit(\n",
    "    X_train, y_train,\n",
    "    epochs=50,\n",
    "    batch_size=32,\n",
    "    validation_data=(X_val, y_val),\n",
    "    callbacks=checkpoint,\n",
    "    verbose=1\n",
    ")"
   ]
  },
  {
   "cell_type": "code",
   "execution_count": 72,
   "metadata": {},
   "outputs": [
    {
     "data": {
      "image/png": "[encoded data removed]",
      "text/plain": [
       "<Figure size 1000x500 with 1 Axes>"
      ]
     },
     "metadata": {},
     "output_type": "display_data"
    }
   ],
   "source": [
    "plt.figure(figsize=(10, 5))\n",
    "plt.plot(history.history['loss'], label='Train Loss')\n",
    "plt.plot(history.history['val_loss'], label='Validation Loss')\n",
    "plt.xlabel('Epochs')\n",
    "plt.ylabel('Loss')\n",
    "plt.title('Training & Validation Loss')\n",
    "plt.legend()\n",
    "plt.show()"
   ]
  },
  {
   "cell_type": "code",
   "execution_count": 73,
   "metadata": {},
   "outputs": [
    {
     "name": "stdout",
     "output_type": "stream",
     "text": [
      "48/48 [==============================] - 1s 7ms/step\n",
      "{'MSE': 0.6757415161595324, 'RMSE': 0.8220349847540143, 'MAE': 0.5577142575747653}\n"
     ]
    }
   ],
   "source": [
    "y_pred = model.predict(X_test)\n",
    "\n",
    "def evaluate_model(y_true, y_pred):\n",
    "    mse = mean_squared_error(y_true.flatten(), y_pred.flatten())\n",
    "    rmse = np.sqrt(mse)\n",
    "    mae = mean_absolute_error(y_true.flatten(), y_pred.flatten())\n",
    "    return {\"MSE\": mse, \"RMSE\": rmse, \"MAE\": mae}\n",
    "\n",
    "metrics = evaluate_model(y_test, y_pred)\n",
    "print(metrics)"
   ]
  },
  {
   "cell_type": "markdown",
   "metadata": {},
   "source": [
    "### Test model"
   ]
  },
  {
   "cell_type": "code",
   "execution_count": 74,
   "metadata": {},
   "outputs": [],
   "source": [
    "model = tf.keras.models.load_model(best_model_path)\n",
    "scaler = joblib.load(scaler_path)"
   ]
  },
  {
   "cell_type": "code",
   "execution_count": 75,
   "metadata": {},
   "outputs": [],
   "source": [
    "last_input = X_test[-1] \n",
    "last_input = np.expand_dims(last_input, axis=0)"
   ]
  },
  {
   "cell_type": "code",
   "execution_count": 76,
   "metadata": {},
   "outputs": [
    {
     "name": "stdout",
     "output_type": "stream",
     "text": [
      "1/1 [==============================] - 1s 595ms/step\n",
      "1/1 [==============================] - 0s 20ms/step\n",
      "1/1 [==============================] - 0s 20ms/step\n",
      "1/1 [==============================] - 0s 20ms/step\n",
      "1/1 [==============================] - 0s 21ms/step\n",
      "1/1 [==============================] - 0s 20ms/step\n",
      "1/1 [==============================] - 0s 22ms/step\n"
     ]
    }
   ],
   "source": [
    "num_future_steps = 56  # next 7 days\n",
    "predictions = []\n",
    "\n",
    "for _ in range(num_future_steps // 8):  \n",
    "    pred = model.predict(last_input) \n",
    "    predictions.append(pred)\n",
    "\n",
    "    last_input = np.concatenate([last_input[:, 8:, :], pred], axis=1)\n",
    "\n",
    "predictions = np.concatenate(predictions, axis=1) "
   ]
  },
  {
   "cell_type": "code",
   "execution_count": 77,
   "metadata": {},
   "outputs": [],
   "source": [
    "predictions_original = scaler.inverse_transform(predictions.reshape(-1, len(features))).reshape(56, len(features))"
   ]
  },
  {
   "cell_type": "code",
   "execution_count": 78,
   "metadata": {},
   "outputs": [],
   "source": [
    "future_dates = pd.date_range(data.index[-1] + pd.Timedelta(hours=3), periods=56, freq=\"3h\")"
   ]
  },
  {
   "cell_type": "code",
   "execution_count": 79,
   "metadata": {},
   "outputs": [
    {
     "data": {
      "text/html": [
       "<div>\n",
       "<style scoped>\n",
       "    .dataframe tbody tr th:only-of-type {\n",
       "        vertical-align: middle;\n",
       "    }\n",
       "\n",
       "    .dataframe tbody tr th {\n",
       "        vertical-align: top;\n",
       "    }\n",
       "\n",
       "    .dataframe thead th {\n",
       "        text-align: right;\n",
       "    }\n",
       "</style>\n",
       "<table border=\"1\" class=\"dataframe\">\n",
       "  <thead>\n",
       "    <tr style=\"text-align: right;\">\n",
       "      <th></th>\n",
       "      <th>temp</th>\n",
       "      <th>dwpt</th>\n",
       "      <th>rhum</th>\n",
       "      <th>prcp</th>\n",
       "      <th>wdir</th>\n",
       "      <th>wspd</th>\n",
       "      <th>pres</th>\n",
       "    </tr>\n",
       "  </thead>\n",
       "  <tbody>\n",
       "    <tr>\n",
       "      <th>2025-02-22 08:00:00</th>\n",
       "      <td>22.240620</td>\n",
       "      <td>20.693651</td>\n",
       "      <td>90.008911</td>\n",
       "      <td>0.193741</td>\n",
       "      <td>242.796112</td>\n",
       "      <td>23.597910</td>\n",
       "      <td>1015.810425</td>\n",
       "    </tr>\n",
       "    <tr>\n",
       "      <th>2025-02-22 11:00:00</th>\n",
       "      <td>24.000172</td>\n",
       "      <td>20.815216</td>\n",
       "      <td>82.512230</td>\n",
       "      <td>0.240643</td>\n",
       "      <td>161.933502</td>\n",
       "      <td>26.567228</td>\n",
       "      <td>1016.798584</td>\n",
       "    </tr>\n",
       "    <tr>\n",
       "      <th>2025-02-22 14:00:00</th>\n",
       "      <td>25.562756</td>\n",
       "      <td>20.860069</td>\n",
       "      <td>75.621796</td>\n",
       "      <td>0.246274</td>\n",
       "      <td>75.543381</td>\n",
       "      <td>29.983385</td>\n",
       "      <td>1016.173157</td>\n",
       "    </tr>\n",
       "    <tr>\n",
       "      <th>2025-02-22 17:00:00</th>\n",
       "      <td>25.235411</td>\n",
       "      <td>20.863096</td>\n",
       "      <td>76.451401</td>\n",
       "      <td>0.280662</td>\n",
       "      <td>49.286972</td>\n",
       "      <td>30.944279</td>\n",
       "      <td>1014.540405</td>\n",
       "    </tr>\n",
       "    <tr>\n",
       "      <th>2025-02-22 20:00:00</th>\n",
       "      <td>23.868773</td>\n",
       "      <td>20.940605</td>\n",
       "      <td>82.821228</td>\n",
       "      <td>0.181482</td>\n",
       "      <td>98.093468</td>\n",
       "      <td>28.132191</td>\n",
       "      <td>1014.721680</td>\n",
       "    </tr>\n",
       "  </tbody>\n",
       "</table>\n",
       "</div>"
      ],
      "text/plain": [
       "                          temp       dwpt       rhum      prcp        wdir  \\\n",
       "2025-02-22 08:00:00  22.240620  20.693651  90.008911  0.193741  242.796112   \n",
       "2025-02-22 11:00:00  24.000172  20.815216  82.512230  0.240643  161.933502   \n",
       "2025-02-22 14:00:00  25.562756  20.860069  75.621796  0.246274   75.543381   \n",
       "2025-02-22 17:00:00  25.235411  20.863096  76.451401  0.280662   49.286972   \n",
       "2025-02-22 20:00:00  23.868773  20.940605  82.821228  0.181482   98.093468   \n",
       "\n",
       "                          wspd         pres  \n",
       "2025-02-22 08:00:00  23.597910  1015.810425  \n",
       "2025-02-22 11:00:00  26.567228  1016.798584  \n",
       "2025-02-22 14:00:00  29.983385  1016.173157  \n",
       "2025-02-22 17:00:00  30.944279  1014.540405  \n",
       "2025-02-22 20:00:00  28.132191  1014.721680  "
      ]
     },
     "execution_count": 79,
     "metadata": {},
     "output_type": "execute_result"
    }
   ],
   "source": [
    "df_predictions = pd.DataFrame(predictions_original, columns=features)\n",
    "\n",
    "df_predictions.index = future_dates\n",
    "\n",
    "df_predictions.head()"
   ]
  },
  {
   "cell_type": "code",
   "execution_count": 80,
   "metadata": {},
   "outputs": [
    {
     "data": {
      "image/png": "[encoded data removed]",
      "text/plain": [
       "<Figure size 1200x600 with 1 Axes>"
      ]
     },
     "metadata": {},
     "output_type": "display_data"
    }
   ],
   "source": [
    "plt.figure(figsize=(12, 6))\n",
    "\n",
    "plt.plot(data.index[-56:], scaler.inverse_transform(X_test[-1].reshape(-1, len(features)))[:, 0], label=\"Actual Temp\", marker=\"o\")\n",
    "\n",
    "plt.plot(future_dates, predictions_original[:, 0], label=\"Predicted Temp\", marker=\"x\")\n",
    "\n",
    "plt.xlabel(\"Time\")\n",
    "plt.ylabel(\"Temperature\")\n",
    "plt.title(\"Next 7 days\")\n",
    "plt.legend()\n",
    "plt.show()"
   ]
  },
  {
   "cell_type": "code",
   "execution_count": null,
   "metadata": {},
   "outputs": [],
   "source": []
  }
 ],
 "metadata": {
  "kernelspec": {
   "display_name": "wf",
   "language": "python",
   "name": "python3"
  },
  "language_info": {
   "codemirror_mode": {
    "name": "ipython",
    "version": 3
   },
   "file_extension": ".py",
   "mimetype": "text/x-python",
   "name": "python",
   "nbconvert_exporter": "python",
   "pygments_lexer": "ipython3",
   "version": "3.10.16"
  }
 },
 "nbformat": 4,
 "nbformat_minor": 2
}
